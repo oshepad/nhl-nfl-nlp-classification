{
 "cells": [
  {
   "cell_type": "markdown",
   "id": "d70e3cbb-361c-4b58-96dd-9c1edfa8b6d5",
   "metadata": {},
   "source": [
    "# Merging Data Scrapes\n",
    "___\n",
    "\n",
    "The data has been scraped from Reddit through the API.  The data is coming in the form of 4 files:\n",
    "\n",
    "* One file for the titles of Subreddit community one\n",
    "* One file for the titles of Subreddit community two\n",
    "* One file for the transaction logs of Subreddit community one\n",
    "* One file for the transaction logs of Subreddit community two\n",
    "\n",
    "This data can easily be merged into two files, one as a transaction log and the other the posts.\n",
    "\n",
    "The following cells will accomplish that with some routine cleaning and sorting.\n",
    "___"
   ]
  },
  {
   "cell_type": "code",
   "execution_count": 2,
   "id": "f4d42fab-cf78-463c-aef6-d29cdb570556",
   "metadata": {},
   "outputs": [],
   "source": [
    "import pandas as pd"
   ]
  },
  {
   "cell_type": "markdown",
   "id": "5594e1f3-9c96-483f-be79-b04fe972015f",
   "metadata": {},
   "source": [
    "### Initial read in\n",
    "___"
   ]
  },
  {
   "cell_type": "code",
   "execution_count": 3,
   "id": "d3e3cc93-bbf7-45ef-8efe-98e927808111",
   "metadata": {},
   "outputs": [],
   "source": [
    "df1 = pd.read_csv('./nfl_transaction_log.csv')\n",
    "df2 = pd.read_csv('./nhl_transaction_log.csv')\n",
    "df3 = pd.read_csv('./nfl_pulls.csv')\n",
    "df4 = pd.read_csv('./nhl_pulls.csv')"
   ]
  },
  {
   "cell_type": "markdown",
   "id": "8c506f77-d44d-4271-8b6a-4e304a65d613",
   "metadata": {},
   "source": [
    "### Transaction logs\n",
    "___"
   ]
  },
  {
   "cell_type": "code",
   "execution_count": 4,
   "id": "d195bbf7-457e-44ef-a980-fb3c19e309d3",
   "metadata": {},
   "outputs": [
    {
     "data": {
      "text/plain": [
       "22"
      ]
     },
     "execution_count": 4,
     "metadata": {},
     "output_type": "execute_result"
    }
   ],
   "source": [
    "# How many scrapes amongst transaction logs\n",
    "dfs = [df1, df2]\n",
    "scrapes = 0\n",
    "for df in dfs:\n",
    "    scrapes += len(df)\n",
    "scrapes"
   ]
  },
  {
   "cell_type": "code",
   "execution_count": 5,
   "id": "d3ccb77a-75b9-4016-9b38-0d7da2b5ac68",
   "metadata": {},
   "outputs": [
    {
     "name": "stdout",
     "output_type": "stream",
     "text": [
      "<class 'pandas.core.frame.DataFrame'>\n",
      "Index: 22 entries, 0 to 10\n",
      "Data columns (total 5 columns):\n",
      " #   Column           Non-Null Count  Dtype \n",
      "---  ------           --------------  ----- \n",
      " 0   subreddit        22 non-null     object\n",
      " 1   pulled_postings  22 non-null     int64 \n",
      " 2   total_postings   22 non-null     int64 \n",
      " 3   times_created    22 non-null     object\n",
      " 4   anchor           22 non-null     object\n",
      "dtypes: int64(2), object(3)\n",
      "memory usage: 1.0+ KB\n"
     ]
    }
   ],
   "source": [
    "# Combine different subreddit transaction logs\n",
    "df_tlogs = pd.concat(dfs)\n",
    "df_tlogs.info()"
   ]
  },
  {
   "cell_type": "code",
   "execution_count": 6,
   "id": "bd0e32b0-ac50-4c66-ac29-17e942c894bd",
   "metadata": {},
   "outputs": [
    {
     "data": {
      "text/plain": [
       "(22, 5)"
      ]
     },
     "execution_count": 6,
     "metadata": {},
     "output_type": "execute_result"
    }
   ],
   "source": [
    "# If you didn't merge between pulls, header may have been written underneath\n",
    "drop = df_tlogs[df_tlogs['subreddit'] == 'subreddit']\n",
    "df_tlogs.drop(index=drop.index, inplace=True)\n",
    "df_tlogs.shape"
   ]
  },
  {
   "cell_type": "code",
   "execution_count": 7,
   "id": "2ec895ac-e034-42ab-a6e9-d36b0ebf6ff3",
   "metadata": {},
   "outputs": [
    {
     "data": {
      "text/html": [
       "<div>\n",
       "<style scoped>\n",
       "    .dataframe tbody tr th:only-of-type {\n",
       "        vertical-align: middle;\n",
       "    }\n",
       "\n",
       "    .dataframe tbody tr th {\n",
       "        vertical-align: top;\n",
       "    }\n",
       "\n",
       "    .dataframe thead th {\n",
       "        text-align: right;\n",
       "    }\n",
       "</style>\n",
       "<table border=\"1\" class=\"dataframe\">\n",
       "  <thead>\n",
       "    <tr style=\"text-align: right;\">\n",
       "      <th></th>\n",
       "      <th>subreddit</th>\n",
       "      <th>pulled_postings</th>\n",
       "      <th>total_postings</th>\n",
       "      <th>times_created</th>\n",
       "      <th>anchor</th>\n",
       "    </tr>\n",
       "  </thead>\n",
       "  <tbody>\n",
       "    <tr>\n",
       "      <th>0</th>\n",
       "      <td>nhl</td>\n",
       "      <td>27</td>\n",
       "      <td>27</td>\n",
       "      <td>Fri Oct 11 00:28:57 2024</td>\n",
       "      <td>t3_1fzha42</td>\n",
       "    </tr>\n",
       "    <tr>\n",
       "      <th>0</th>\n",
       "      <td>nfl</td>\n",
       "      <td>27</td>\n",
       "      <td>27</td>\n",
       "      <td>Fri Oct 11 00:28:58 2024</td>\n",
       "      <td>t3_1g0z5r2</td>\n",
       "    </tr>\n",
       "    <tr>\n",
       "      <th>1</th>\n",
       "      <td>nhl</td>\n",
       "      <td>100</td>\n",
       "      <td>127</td>\n",
       "      <td>Fri Oct 11 00:29:01 2024</td>\n",
       "      <td>t3_1fqbud0</td>\n",
       "    </tr>\n",
       "    <tr>\n",
       "      <th>1</th>\n",
       "      <td>nfl</td>\n",
       "      <td>100</td>\n",
       "      <td>127</td>\n",
       "      <td>Fri Oct 11 00:29:06 2024</td>\n",
       "      <td>t3_1fzsf4x</td>\n",
       "    </tr>\n",
       "    <tr>\n",
       "      <th>2</th>\n",
       "      <td>nhl</td>\n",
       "      <td>100</td>\n",
       "      <td>227</td>\n",
       "      <td>Fri Oct 11 00:29:11 2024</td>\n",
       "      <td>t3_1fqbud0</td>\n",
       "    </tr>\n",
       "    <tr>\n",
       "      <th>...</th>\n",
       "      <td>...</td>\n",
       "      <td>...</td>\n",
       "      <td>...</td>\n",
       "      <td>...</td>\n",
       "      <td>...</td>\n",
       "    </tr>\n",
       "    <tr>\n",
       "      <th>815</th>\n",
       "      <td>nfl</td>\n",
       "      <td>100</td>\n",
       "      <td>1100</td>\n",
       "      <td>Wed Oct  9 22:44:50 2024</td>\n",
       "      <td>t3_1fyco23</td>\n",
       "    </tr>\n",
       "    <tr>\n",
       "      <th>816</th>\n",
       "      <td>nfl</td>\n",
       "      <td>100</td>\n",
       "      <td>1100</td>\n",
       "      <td>Wed Oct  9 22:44:53 2024</td>\n",
       "      <td>t3_1fyco23</td>\n",
       "    </tr>\n",
       "    <tr>\n",
       "      <th>817</th>\n",
       "      <td>nfl</td>\n",
       "      <td>100</td>\n",
       "      <td>1100</td>\n",
       "      <td>Wed Oct  9 22:44:55 2024</td>\n",
       "      <td>t3_1fyco23</td>\n",
       "    </tr>\n",
       "    <tr>\n",
       "      <th>818</th>\n",
       "      <td>nfl</td>\n",
       "      <td>100</td>\n",
       "      <td>1100</td>\n",
       "      <td>Wed Oct  9 22:44:58 2024</td>\n",
       "      <td>t3_1fyco23</td>\n",
       "    </tr>\n",
       "    <tr>\n",
       "      <th>819</th>\n",
       "      <td>nfl</td>\n",
       "      <td>100</td>\n",
       "      <td>1100</td>\n",
       "      <td>Wed Oct  9 22:45:02 2024</td>\n",
       "      <td>t3_1fyco23</td>\n",
       "    </tr>\n",
       "  </tbody>\n",
       "</table>\n",
       "<p>842 rows × 5 columns</p>\n",
       "</div>"
      ],
      "text/plain": [
       "    subreddit  pulled_postings  total_postings             times_created  \\\n",
       "0         nhl               27              27  Fri Oct 11 00:28:57 2024   \n",
       "0         nfl               27              27  Fri Oct 11 00:28:58 2024   \n",
       "1         nhl              100             127  Fri Oct 11 00:29:01 2024   \n",
       "1         nfl              100             127  Fri Oct 11 00:29:06 2024   \n",
       "2         nhl              100             227  Fri Oct 11 00:29:11 2024   \n",
       "..        ...              ...             ...                       ...   \n",
       "815       nfl              100            1100  Wed Oct  9 22:44:50 2024   \n",
       "816       nfl              100            1100  Wed Oct  9 22:44:53 2024   \n",
       "817       nfl              100            1100  Wed Oct  9 22:44:55 2024   \n",
       "818       nfl              100            1100  Wed Oct  9 22:44:58 2024   \n",
       "819       nfl              100            1100  Wed Oct  9 22:45:02 2024   \n",
       "\n",
       "         anchor  \n",
       "0    t3_1fzha42  \n",
       "0    t3_1g0z5r2  \n",
       "1    t3_1fqbud0  \n",
       "1    t3_1fzsf4x  \n",
       "2    t3_1fqbud0  \n",
       "..          ...  \n",
       "815  t3_1fyco23  \n",
       "816  t3_1fyco23  \n",
       "817  t3_1fyco23  \n",
       "818  t3_1fyco23  \n",
       "819  t3_1fyco23  \n",
       "\n",
       "[842 rows x 5 columns]"
      ]
     },
     "execution_count": 7,
     "metadata": {},
     "output_type": "execute_result"
    }
   ],
   "source": [
    "# Update merged transactions log\n",
    "merged_logs = pd.read_csv('./merged_logs.csv')\n",
    "merged_logs = pd.concat([merged_logs, df_tlogs])\n",
    "merged_logs.sort_values('times_created', inplace=True)\n",
    "merged_logs"
   ]
  },
  {
   "cell_type": "markdown",
   "id": "5295c1bb-f44b-4fdc-b056-42bcaa12c036",
   "metadata": {},
   "source": [
    "### Writing Tranaction Log\n",
    "___"
   ]
  },
  {
   "cell_type": "code",
   "execution_count": 8,
   "id": "82ce9d9e-7d3d-4d97-a443-a7d3b7609487",
   "metadata": {},
   "outputs": [],
   "source": [
    "merged_logs.sort_values('times_created', inplace=True)\n",
    "merged_logs.to_csv('./merged_logs.csv', index=False)"
   ]
  },
  {
   "cell_type": "markdown",
   "id": "97eef6c7-58e8-482f-a53d-afc6e91714d3",
   "metadata": {},
   "source": [
    "### Gathering Posts from both Subreddit communities\n",
    "___"
   ]
  },
  {
   "cell_type": "code",
   "execution_count": 9,
   "id": "a696fab4-21aa-4c3e-a0ae-36991431b389",
   "metadata": {},
   "outputs": [
    {
     "name": "stdout",
     "output_type": "stream",
     "text": [
      "<class 'pandas.core.frame.DataFrame'>\n",
      "RangeIndex: 127 entries, 0 to 126\n",
      "Data columns (total 6 columns):\n",
      " #   Column         Non-Null Count  Dtype \n",
      "---  ------         --------------  ----- \n",
      " 0   time_pulled    127 non-null    object\n",
      " 1   fullname       127 non-null    object\n",
      " 2   titles         127 non-null    object\n",
      " 3   times_created  127 non-null    object\n",
      " 4   anchors        127 non-null    object\n",
      " 5   subreddit      127 non-null    object\n",
      "dtypes: object(6)\n",
      "memory usage: 6.1+ KB\n",
      "<class 'pandas.core.frame.DataFrame'>\n",
      "RangeIndex: 127 entries, 0 to 126\n",
      "Data columns (total 6 columns):\n",
      " #   Column         Non-Null Count  Dtype \n",
      "---  ------         --------------  ----- \n",
      " 0   time_pulled    127 non-null    object\n",
      " 1   fullname       127 non-null    object\n",
      " 2   titles         127 non-null    object\n",
      " 3   times_created  127 non-null    object\n",
      " 4   anchors        127 non-null    object\n",
      " 5   subreddit      127 non-null    object\n",
      "dtypes: object(6)\n",
      "memory usage: 6.1+ KB\n"
     ]
    },
    {
     "data": {
      "text/plain": [
       "(None, None)"
      ]
     },
     "execution_count": 9,
     "metadata": {},
     "output_type": "execute_result"
    }
   ],
   "source": [
    "df3.info(), df4.info()"
   ]
  },
  {
   "cell_type": "code",
   "execution_count": 10,
   "id": "a7a66a01-0b1c-4cec-878d-62c28b342f4b",
   "metadata": {},
   "outputs": [
    {
     "data": {
      "text/plain": [
       "254"
      ]
     },
     "execution_count": 10,
     "metadata": {},
     "output_type": "execute_result"
    }
   ],
   "source": [
    "# How many were there\n",
    "dfs_pulls = [df3, df4]\n",
    "scrapes_pulls = 0\n",
    "for df in dfs_pulls:\n",
    "    scrapes_pulls += len(df)\n",
    "scrapes_pulls"
   ]
  },
  {
   "cell_type": "code",
   "execution_count": 11,
   "id": "0a0157c3-7309-4a32-8be3-0fec881ca25a",
   "metadata": {},
   "outputs": [
    {
     "data": {
      "text/plain": [
       "(254, 6)"
      ]
     },
     "execution_count": 11,
     "metadata": {},
     "output_type": "execute_result"
    }
   ],
   "source": [
    "# Combine the posts from both subreddits\n",
    "df_posts = pd.concat(dfs_pulls)\n",
    "df_posts.sort_values('times_created', inplace=True)\n",
    "df_posts.shape"
   ]
  },
  {
   "cell_type": "code",
   "execution_count": 12,
   "id": "80b8e8e0-bf94-4162-9fbb-c6346adf1fcd",
   "metadata": {},
   "outputs": [
    {
     "data": {
      "text/html": [
       "<div>\n",
       "<style scoped>\n",
       "    .dataframe tbody tr th:only-of-type {\n",
       "        vertical-align: middle;\n",
       "    }\n",
       "\n",
       "    .dataframe tbody tr th {\n",
       "        vertical-align: top;\n",
       "    }\n",
       "\n",
       "    .dataframe thead th {\n",
       "        text-align: right;\n",
       "    }\n",
       "</style>\n",
       "<table border=\"1\" class=\"dataframe\">\n",
       "  <thead>\n",
       "    <tr style=\"text-align: right;\">\n",
       "      <th></th>\n",
       "      <th>time_pulled</th>\n",
       "      <th>fullname</th>\n",
       "      <th>titles</th>\n",
       "      <th>times_created</th>\n",
       "      <th>anchors</th>\n",
       "      <th>subreddit</th>\n",
       "    </tr>\n",
       "  </thead>\n",
       "  <tbody>\n",
       "    <tr>\n",
       "      <th>49</th>\n",
       "      <td>Fri Oct 11 00:28:59 2024</td>\n",
       "      <td>t3_1fyc39m</td>\n",
       "      <td>'Tough business': NHLers on the league's volat...</td>\n",
       "      <td>2024-10-07 09:36:40</td>\n",
       "      <td>t3_1fqbud0</td>\n",
       "      <td>nhl</td>\n",
       "    </tr>\n",
       "    <tr>\n",
       "      <th>58</th>\n",
       "      <td>Fri Oct 11 00:29:05 2024</td>\n",
       "      <td>t3_1g0k7yv</td>\n",
       "      <td>2024 NFL QB Analysis: Time to Throw vs. Comple...</td>\n",
       "      <td>2024-10-10 07:33:31</td>\n",
       "      <td>t3_1fzsf4x</td>\n",
       "      <td>nfl</td>\n",
       "    </tr>\n",
       "    <tr>\n",
       "      <th>81</th>\n",
       "      <td>Fri Oct 11 00:29:00 2024</td>\n",
       "      <td>t3_1fv6dwh</td>\n",
       "      <td>2024-25 NHL Team Twitter (or X) Logo Hashtags</td>\n",
       "      <td>2024-10-03 05:21:50</td>\n",
       "      <td>t3_1fqbud0</td>\n",
       "      <td>nhl</td>\n",
       "    </tr>\n",
       "    <tr>\n",
       "      <th>45</th>\n",
       "      <td>Fri Oct 11 00:28:59 2024</td>\n",
       "      <td>t3_1fyjkrh</td>\n",
       "      <td>5 iconic Henrik Lundqvist saves for you 😌</td>\n",
       "      <td>2024-10-07 14:44:37</td>\n",
       "      <td>t3_1fqbud0</td>\n",
       "      <td>nhl</td>\n",
       "    </tr>\n",
       "    <tr>\n",
       "      <th>48</th>\n",
       "      <td>Fri Oct 11 00:28:59 2024</td>\n",
       "      <td>t3_1fyenx2</td>\n",
       "      <td>5 waiver claims which one is the biggest W</td>\n",
       "      <td>2024-10-07 11:22:03</td>\n",
       "      <td>t3_1fqbud0</td>\n",
       "      <td>nhl</td>\n",
       "    </tr>\n",
       "    <tr>\n",
       "      <th>96</th>\n",
       "      <td>Fri Oct 11 00:29:00 2024</td>\n",
       "      <td>t3_1ftfb3j</td>\n",
       "      <td>7 Trade Landing Spots for Boston Bruins Goalie...</td>\n",
       "      <td>2024-09-30 21:04:44</td>\n",
       "      <td>t3_1fqbud0</td>\n",
       "      <td>nhl</td>\n",
       "    </tr>\n",
       "    <tr>\n",
       "      <th>19</th>\n",
       "      <td>Fri Oct 11 00:28:57 2024</td>\n",
       "      <td>t3_1fzvud9</td>\n",
       "      <td>A pic of Amerant Bank Arena from this morning</td>\n",
       "      <td>2024-10-09 09:40:14</td>\n",
       "      <td>t3_1fzha42</td>\n",
       "      <td>nhl</td>\n",
       "    </tr>\n",
       "    <tr>\n",
       "      <th>18</th>\n",
       "      <td>Fri Oct 11 00:28:58 2024</td>\n",
       "      <td>t3_1g0w22k</td>\n",
       "      <td>After the Jets loss to the Vikings, Aaron Rodg...</td>\n",
       "      <td>2024-10-10 16:18:35</td>\n",
       "      <td>t3_1g0z5r2</td>\n",
       "      <td>nfl</td>\n",
       "    </tr>\n",
       "    <tr>\n",
       "      <th>81</th>\n",
       "      <td>Fri Oct 11 00:29:05 2024</td>\n",
       "      <td>t3_1g02ixw</td>\n",
       "      <td>Agent's Take: Raiders trading Davante Adams se...</td>\n",
       "      <td>2024-10-09 14:21:37</td>\n",
       "      <td>t3_1fzsf4x</td>\n",
       "      <td>nfl</td>\n",
       "    </tr>\n",
       "    <tr>\n",
       "      <th>26</th>\n",
       "      <td>Fri Oct 11 00:28:57 2024</td>\n",
       "      <td>t3_1fkp639</td>\n",
       "      <td>All Streaming Questions and All Broadcast Disc...</td>\n",
       "      <td>2024-09-19 09:33:07</td>\n",
       "      <td>t3_1fzha42</td>\n",
       "      <td>nhl</td>\n",
       "    </tr>\n",
       "  </tbody>\n",
       "</table>\n",
       "</div>"
      ],
      "text/plain": [
       "                 time_pulled    fullname  \\\n",
       "49  Fri Oct 11 00:28:59 2024  t3_1fyc39m   \n",
       "58  Fri Oct 11 00:29:05 2024  t3_1g0k7yv   \n",
       "81  Fri Oct 11 00:29:00 2024  t3_1fv6dwh   \n",
       "45  Fri Oct 11 00:28:59 2024  t3_1fyjkrh   \n",
       "48  Fri Oct 11 00:28:59 2024  t3_1fyenx2   \n",
       "96  Fri Oct 11 00:29:00 2024  t3_1ftfb3j   \n",
       "19  Fri Oct 11 00:28:57 2024  t3_1fzvud9   \n",
       "18  Fri Oct 11 00:28:58 2024  t3_1g0w22k   \n",
       "81  Fri Oct 11 00:29:05 2024  t3_1g02ixw   \n",
       "26  Fri Oct 11 00:28:57 2024  t3_1fkp639   \n",
       "\n",
       "                                               titles        times_created  \\\n",
       "49  'Tough business': NHLers on the league's volat...  2024-10-07 09:36:40   \n",
       "58  2024 NFL QB Analysis: Time to Throw vs. Comple...  2024-10-10 07:33:31   \n",
       "81      2024-25 NHL Team Twitter (or X) Logo Hashtags  2024-10-03 05:21:50   \n",
       "45          5 iconic Henrik Lundqvist saves for you 😌  2024-10-07 14:44:37   \n",
       "48         5 waiver claims which one is the biggest W  2024-10-07 11:22:03   \n",
       "96  7 Trade Landing Spots for Boston Bruins Goalie...  2024-09-30 21:04:44   \n",
       "19      A pic of Amerant Bank Arena from this morning  2024-10-09 09:40:14   \n",
       "18  After the Jets loss to the Vikings, Aaron Rodg...  2024-10-10 16:18:35   \n",
       "81  Agent's Take: Raiders trading Davante Adams se...  2024-10-09 14:21:37   \n",
       "26  All Streaming Questions and All Broadcast Disc...  2024-09-19 09:33:07   \n",
       "\n",
       "       anchors subreddit  \n",
       "49  t3_1fqbud0       nhl  \n",
       "58  t3_1fzsf4x       nfl  \n",
       "81  t3_1fqbud0       nhl  \n",
       "45  t3_1fqbud0       nhl  \n",
       "48  t3_1fqbud0       nhl  \n",
       "96  t3_1fqbud0       nhl  \n",
       "19  t3_1fzha42       nhl  \n",
       "18  t3_1g0z5r2       nfl  \n",
       "81  t3_1fzsf4x       nfl  \n",
       "26  t3_1fzha42       nhl  "
      ]
     },
     "execution_count": 12,
     "metadata": {},
     "output_type": "execute_result"
    }
   ],
   "source": [
    "# Drop duplicates, check to see if any\n",
    "df_posts.sort_values('titles', inplace=True)\n",
    "df_posts.head(10)"
   ]
  },
  {
   "cell_type": "code",
   "execution_count": 13,
   "id": "ca2b9d37-45da-489d-afd8-de0859742f8a",
   "metadata": {},
   "outputs": [
    {
     "data": {
      "text/html": [
       "<div>\n",
       "<style scoped>\n",
       "    .dataframe tbody tr th:only-of-type {\n",
       "        vertical-align: middle;\n",
       "    }\n",
       "\n",
       "    .dataframe tbody tr th {\n",
       "        vertical-align: top;\n",
       "    }\n",
       "\n",
       "    .dataframe thead th {\n",
       "        text-align: right;\n",
       "    }\n",
       "</style>\n",
       "<table border=\"1\" class=\"dataframe\">\n",
       "  <thead>\n",
       "    <tr style=\"text-align: right;\">\n",
       "      <th></th>\n",
       "      <th>time_pulled</th>\n",
       "      <th>fullname</th>\n",
       "      <th>titles</th>\n",
       "      <th>times_created</th>\n",
       "      <th>anchors</th>\n",
       "      <th>subreddit</th>\n",
       "    </tr>\n",
       "  </thead>\n",
       "  <tbody>\n",
       "    <tr>\n",
       "      <th>49</th>\n",
       "      <td>Fri Oct 11 00:28:59 2024</td>\n",
       "      <td>t3_1fyc39m</td>\n",
       "      <td>'Tough business': NHLers on the league's volat...</td>\n",
       "      <td>2024-10-07 09:36:40</td>\n",
       "      <td>t3_1fqbud0</td>\n",
       "      <td>nhl</td>\n",
       "    </tr>\n",
       "    <tr>\n",
       "      <th>58</th>\n",
       "      <td>Fri Oct 11 00:29:05 2024</td>\n",
       "      <td>t3_1g0k7yv</td>\n",
       "      <td>2024 NFL QB Analysis: Time to Throw vs. Comple...</td>\n",
       "      <td>2024-10-10 07:33:31</td>\n",
       "      <td>t3_1fzsf4x</td>\n",
       "      <td>nfl</td>\n",
       "    </tr>\n",
       "    <tr>\n",
       "      <th>81</th>\n",
       "      <td>Fri Oct 11 00:29:00 2024</td>\n",
       "      <td>t3_1fv6dwh</td>\n",
       "      <td>2024-25 NHL Team Twitter (or X) Logo Hashtags</td>\n",
       "      <td>2024-10-03 05:21:50</td>\n",
       "      <td>t3_1fqbud0</td>\n",
       "      <td>nhl</td>\n",
       "    </tr>\n",
       "    <tr>\n",
       "      <th>45</th>\n",
       "      <td>Fri Oct 11 00:28:59 2024</td>\n",
       "      <td>t3_1fyjkrh</td>\n",
       "      <td>5 iconic Henrik Lundqvist saves for you 😌</td>\n",
       "      <td>2024-10-07 14:44:37</td>\n",
       "      <td>t3_1fqbud0</td>\n",
       "      <td>nhl</td>\n",
       "    </tr>\n",
       "    <tr>\n",
       "      <th>48</th>\n",
       "      <td>Fri Oct 11 00:28:59 2024</td>\n",
       "      <td>t3_1fyenx2</td>\n",
       "      <td>5 waiver claims which one is the biggest W</td>\n",
       "      <td>2024-10-07 11:22:03</td>\n",
       "      <td>t3_1fqbud0</td>\n",
       "      <td>nhl</td>\n",
       "    </tr>\n",
       "    <tr>\n",
       "      <th>96</th>\n",
       "      <td>Fri Oct 11 00:29:00 2024</td>\n",
       "      <td>t3_1ftfb3j</td>\n",
       "      <td>7 Trade Landing Spots for Boston Bruins Goalie...</td>\n",
       "      <td>2024-09-30 21:04:44</td>\n",
       "      <td>t3_1fqbud0</td>\n",
       "      <td>nhl</td>\n",
       "    </tr>\n",
       "    <tr>\n",
       "      <th>19</th>\n",
       "      <td>Fri Oct 11 00:28:57 2024</td>\n",
       "      <td>t3_1fzvud9</td>\n",
       "      <td>A pic of Amerant Bank Arena from this morning</td>\n",
       "      <td>2024-10-09 09:40:14</td>\n",
       "      <td>t3_1fzha42</td>\n",
       "      <td>nhl</td>\n",
       "    </tr>\n",
       "    <tr>\n",
       "      <th>18</th>\n",
       "      <td>Fri Oct 11 00:28:58 2024</td>\n",
       "      <td>t3_1g0w22k</td>\n",
       "      <td>After the Jets loss to the Vikings, Aaron Rodg...</td>\n",
       "      <td>2024-10-10 16:18:35</td>\n",
       "      <td>t3_1g0z5r2</td>\n",
       "      <td>nfl</td>\n",
       "    </tr>\n",
       "    <tr>\n",
       "      <th>81</th>\n",
       "      <td>Fri Oct 11 00:29:05 2024</td>\n",
       "      <td>t3_1g02ixw</td>\n",
       "      <td>Agent's Take: Raiders trading Davante Adams se...</td>\n",
       "      <td>2024-10-09 14:21:37</td>\n",
       "      <td>t3_1fzsf4x</td>\n",
       "      <td>nfl</td>\n",
       "    </tr>\n",
       "    <tr>\n",
       "      <th>26</th>\n",
       "      <td>Fri Oct 11 00:28:57 2024</td>\n",
       "      <td>t3_1fkp639</td>\n",
       "      <td>All Streaming Questions and All Broadcast Disc...</td>\n",
       "      <td>2024-09-19 09:33:07</td>\n",
       "      <td>t3_1fzha42</td>\n",
       "      <td>nhl</td>\n",
       "    </tr>\n",
       "  </tbody>\n",
       "</table>\n",
       "</div>"
      ],
      "text/plain": [
       "                 time_pulled    fullname  \\\n",
       "49  Fri Oct 11 00:28:59 2024  t3_1fyc39m   \n",
       "58  Fri Oct 11 00:29:05 2024  t3_1g0k7yv   \n",
       "81  Fri Oct 11 00:29:00 2024  t3_1fv6dwh   \n",
       "45  Fri Oct 11 00:28:59 2024  t3_1fyjkrh   \n",
       "48  Fri Oct 11 00:28:59 2024  t3_1fyenx2   \n",
       "96  Fri Oct 11 00:29:00 2024  t3_1ftfb3j   \n",
       "19  Fri Oct 11 00:28:57 2024  t3_1fzvud9   \n",
       "18  Fri Oct 11 00:28:58 2024  t3_1g0w22k   \n",
       "81  Fri Oct 11 00:29:05 2024  t3_1g02ixw   \n",
       "26  Fri Oct 11 00:28:57 2024  t3_1fkp639   \n",
       "\n",
       "                                               titles        times_created  \\\n",
       "49  'Tough business': NHLers on the league's volat...  2024-10-07 09:36:40   \n",
       "58  2024 NFL QB Analysis: Time to Throw vs. Comple...  2024-10-10 07:33:31   \n",
       "81      2024-25 NHL Team Twitter (or X) Logo Hashtags  2024-10-03 05:21:50   \n",
       "45          5 iconic Henrik Lundqvist saves for you 😌  2024-10-07 14:44:37   \n",
       "48         5 waiver claims which one is the biggest W  2024-10-07 11:22:03   \n",
       "96  7 Trade Landing Spots for Boston Bruins Goalie...  2024-09-30 21:04:44   \n",
       "19      A pic of Amerant Bank Arena from this morning  2024-10-09 09:40:14   \n",
       "18  After the Jets loss to the Vikings, Aaron Rodg...  2024-10-10 16:18:35   \n",
       "81  Agent's Take: Raiders trading Davante Adams se...  2024-10-09 14:21:37   \n",
       "26  All Streaming Questions and All Broadcast Disc...  2024-09-19 09:33:07   \n",
       "\n",
       "       anchors subreddit  \n",
       "49  t3_1fqbud0       nhl  \n",
       "58  t3_1fzsf4x       nfl  \n",
       "81  t3_1fqbud0       nhl  \n",
       "45  t3_1fqbud0       nhl  \n",
       "48  t3_1fqbud0       nhl  \n",
       "96  t3_1fqbud0       nhl  \n",
       "19  t3_1fzha42       nhl  \n",
       "18  t3_1g0z5r2       nfl  \n",
       "81  t3_1fzsf4x       nfl  \n",
       "26  t3_1fzha42       nhl  "
      ]
     },
     "execution_count": 13,
     "metadata": {},
     "output_type": "execute_result"
    }
   ],
   "source": [
    "# Drop actual dupes\n",
    "df_posts.drop_duplicates(subset=['titles'], keep='first', inplace=True)\n",
    "df_posts.head(10)"
   ]
  },
  {
   "cell_type": "code",
   "execution_count": 14,
   "id": "2ebf819d-e73a-4aef-b64d-8d0eb2724d8b",
   "metadata": {},
   "outputs": [
    {
     "data": {
      "text/plain": [
       "(254, 6)"
      ]
     },
     "execution_count": 14,
     "metadata": {},
     "output_type": "execute_result"
    }
   ],
   "source": [
    "# Compare size\n",
    "df_posts.shape"
   ]
  },
  {
   "cell_type": "markdown",
   "id": "371a1f89-1d50-4d56-a256-aafc6185e421",
   "metadata": {},
   "source": [
    "### Concat with newly scraped posts\n",
    "____"
   ]
  },
  {
   "cell_type": "code",
   "execution_count": 15,
   "id": "461443ba-9546-4e46-9c73-609fff3e5a8f",
   "metadata": {},
   "outputs": [
    {
     "data": {
      "text/plain": [
       "(2422, 6)"
      ]
     },
     "execution_count": 15,
     "metadata": {},
     "output_type": "execute_result"
    }
   ],
   "source": [
    "# Calling in existing posts\n",
    "merged_pulls = pd.read_csv('./merged_pulls.csv')\n",
    "merged_pulls.shape"
   ]
  },
  {
   "cell_type": "code",
   "execution_count": 18,
   "id": "6bc5c1c4-5a93-49eb-a277-95031c8f563f",
   "metadata": {},
   "outputs": [],
   "source": [
    "merged_pulls = pd.concat([merged_pulls, df_posts])\n",
    "merged_pulls.sort_values('time_pulled', inplace=True)"
   ]
  },
  {
   "cell_type": "code",
   "execution_count": 19,
   "id": "2c792cf4-7db5-4b4c-bba5-8fec1b15c4d7",
   "metadata": {},
   "outputs": [
    {
     "data": {
      "text/html": [
       "<div>\n",
       "<style scoped>\n",
       "    .dataframe tbody tr th:only-of-type {\n",
       "        vertical-align: middle;\n",
       "    }\n",
       "\n",
       "    .dataframe tbody tr th {\n",
       "        vertical-align: top;\n",
       "    }\n",
       "\n",
       "    .dataframe thead th {\n",
       "        text-align: right;\n",
       "    }\n",
       "</style>\n",
       "<table border=\"1\" class=\"dataframe\">\n",
       "  <thead>\n",
       "    <tr style=\"text-align: right;\">\n",
       "      <th></th>\n",
       "      <th>time_pulled</th>\n",
       "      <th>fullname</th>\n",
       "      <th>titles</th>\n",
       "      <th>times_created</th>\n",
       "      <th>anchors</th>\n",
       "      <th>subreddit</th>\n",
       "    </tr>\n",
       "  </thead>\n",
       "  <tbody>\n",
       "    <tr>\n",
       "      <th>87</th>\n",
       "      <td>Fri Oct  4 00:02:54 2024</td>\n",
       "      <td>NaN</td>\n",
       "      <td>Are the Red Wings the most overrated team goin...</td>\n",
       "      <td>Thu Oct  3 22:51:06 2024</td>\n",
       "      <td>t3_1ftfb3j</td>\n",
       "      <td>nhl</td>\n",
       "    </tr>\n",
       "    <tr>\n",
       "      <th>429</th>\n",
       "      <td>Fri Oct  4 00:02:54 2024</td>\n",
       "      <td>NaN</td>\n",
       "      <td>Great job EA (NHL 25 threes)</td>\n",
       "      <td>Thu Oct  3 23:33:28 2024</td>\n",
       "      <td>t3_1ftfb3j</td>\n",
       "      <td>nhl</td>\n",
       "    </tr>\n",
       "    <tr>\n",
       "      <th>1287</th>\n",
       "      <td>Fri Oct  4 00:02:54 2024</td>\n",
       "      <td>NaN</td>\n",
       "      <td>Zoom in, Vegas!</td>\n",
       "      <td>Thu Oct  3 22:27:55 2024</td>\n",
       "      <td>t3_1ftfb3j</td>\n",
       "      <td>nhl</td>\n",
       "    </tr>\n",
       "    <tr>\n",
       "      <th>2212</th>\n",
       "      <td>Fri Oct  4 00:03:02 2024</td>\n",
       "      <td>NaN</td>\n",
       "      <td>[San Jose Sharks PR] The Sharks have added D J...</td>\n",
       "      <td>Thu Sep 19 10:38:01 2024</td>\n",
       "      <td>t3_1fk05aa</td>\n",
       "      <td>nhl</td>\n",
       "    </tr>\n",
       "    <tr>\n",
       "      <th>437</th>\n",
       "      <td>Fri Oct  4 00:04:04 2024</td>\n",
       "      <td>NaN</td>\n",
       "      <td>HOFer Sather retires after six decades in NHL</td>\n",
       "      <td>Wed Jun 26 12:19:52 2024</td>\n",
       "      <td>t3_1dli1s7</td>\n",
       "      <td>nhl</td>\n",
       "    </tr>\n",
       "    <tr>\n",
       "      <th>627</th>\n",
       "      <td>Fri Oct  4 00:04:15 2024</td>\n",
       "      <td>NaN</td>\n",
       "      <td>McDavid and Draisaitl are 1st and 2nd in point...</td>\n",
       "      <td>Sun Jun 16 09:55:55 2024</td>\n",
       "      <td>t3_1dg15bm</td>\n",
       "      <td>nhl</td>\n",
       "    </tr>\n",
       "    <tr>\n",
       "      <th>778</th>\n",
       "      <td>Fri Oct  4 00:04:24 2024</td>\n",
       "      <td>NaN</td>\n",
       "      <td>Panthers’ first goal on the NHL in American Si...</td>\n",
       "      <td>Sat Jun  8 18:43:18 2024</td>\n",
       "      <td>NaN</td>\n",
       "      <td>nhl</td>\n",
       "    </tr>\n",
       "    <tr>\n",
       "      <th>1094</th>\n",
       "      <td>Fri Oct  4 00:04:24 2024</td>\n",
       "      <td>NaN</td>\n",
       "      <td>Using Data Visualizations to compare Hurricane...</td>\n",
       "      <td>Sun Jun  9 21:34:58 2024</td>\n",
       "      <td>NaN</td>\n",
       "      <td>nhl</td>\n",
       "    </tr>\n",
       "    <tr>\n",
       "      <th>122</th>\n",
       "      <td>Fri Oct  4 00:04:24 2024</td>\n",
       "      <td>NaN</td>\n",
       "      <td>Bennett punch to Marchand - the smoking gun an...</td>\n",
       "      <td>Tue Jun 11 16:33:03 2024</td>\n",
       "      <td>NaN</td>\n",
       "      <td>nhl</td>\n",
       "    </tr>\n",
       "    <tr>\n",
       "      <th>1267</th>\n",
       "      <td>Fri Oct  4 00:04:24 2024</td>\n",
       "      <td>NaN</td>\n",
       "      <td>Why the hell did they bring the cup out?</td>\n",
       "      <td>Sat Jun  8 17:32:13 2024</td>\n",
       "      <td>NaN</td>\n",
       "      <td>nhl</td>\n",
       "    </tr>\n",
       "  </tbody>\n",
       "</table>\n",
       "</div>"
      ],
      "text/plain": [
       "                   time_pulled fullname  \\\n",
       "87    Fri Oct  4 00:02:54 2024      NaN   \n",
       "429   Fri Oct  4 00:02:54 2024      NaN   \n",
       "1287  Fri Oct  4 00:02:54 2024      NaN   \n",
       "2212  Fri Oct  4 00:03:02 2024      NaN   \n",
       "437   Fri Oct  4 00:04:04 2024      NaN   \n",
       "627   Fri Oct  4 00:04:15 2024      NaN   \n",
       "778   Fri Oct  4 00:04:24 2024      NaN   \n",
       "1094  Fri Oct  4 00:04:24 2024      NaN   \n",
       "122   Fri Oct  4 00:04:24 2024      NaN   \n",
       "1267  Fri Oct  4 00:04:24 2024      NaN   \n",
       "\n",
       "                                                 titles  \\\n",
       "87    Are the Red Wings the most overrated team goin...   \n",
       "429                        Great job EA (NHL 25 threes)   \n",
       "1287                                   Zoom in, Vegas!    \n",
       "2212  [San Jose Sharks PR] The Sharks have added D J...   \n",
       "437       HOFer Sather retires after six decades in NHL   \n",
       "627   McDavid and Draisaitl are 1st and 2nd in point...   \n",
       "778   Panthers’ first goal on the NHL in American Si...   \n",
       "1094  Using Data Visualizations to compare Hurricane...   \n",
       "122   Bennett punch to Marchand - the smoking gun an...   \n",
       "1267           Why the hell did they bring the cup out?   \n",
       "\n",
       "                 times_created     anchors subreddit  \n",
       "87    Thu Oct  3 22:51:06 2024  t3_1ftfb3j       nhl  \n",
       "429   Thu Oct  3 23:33:28 2024  t3_1ftfb3j       nhl  \n",
       "1287  Thu Oct  3 22:27:55 2024  t3_1ftfb3j       nhl  \n",
       "2212  Thu Sep 19 10:38:01 2024  t3_1fk05aa       nhl  \n",
       "437   Wed Jun 26 12:19:52 2024  t3_1dli1s7       nhl  \n",
       "627   Sun Jun 16 09:55:55 2024  t3_1dg15bm       nhl  \n",
       "778   Sat Jun  8 18:43:18 2024         NaN       nhl  \n",
       "1094  Sun Jun  9 21:34:58 2024         NaN       nhl  \n",
       "122   Tue Jun 11 16:33:03 2024         NaN       nhl  \n",
       "1267  Sat Jun  8 17:32:13 2024         NaN       nhl  "
      ]
     },
     "execution_count": 19,
     "metadata": {},
     "output_type": "execute_result"
    }
   ],
   "source": [
    "# Drop any duplicates\n",
    "merged_pulls.drop_duplicates(subset=['titles'], keep='first', inplace=True)\n",
    "merged_pulls.head(10)"
   ]
  },
  {
   "cell_type": "code",
   "execution_count": 21,
   "id": "fec445e8-d6be-42f8-be6f-b45e178a9f7f",
   "metadata": {},
   "outputs": [
    {
     "data": {
      "text/plain": [
       "(2440, 6)"
      ]
     },
     "execution_count": 21,
     "metadata": {},
     "output_type": "execute_result"
    }
   ],
   "source": [
    "# Comparing shape after merge\n",
    "merged_pulls.shape"
   ]
  },
  {
   "cell_type": "markdown",
   "id": "7cb10363-b740-463a-acfd-9ca40a67032f",
   "metadata": {},
   "source": [
    "### Writing Pulls"
   ]
  },
  {
   "cell_type": "code",
   "execution_count": 22,
   "id": "1bfe36d5-f976-41b1-9ea4-8c90bfbff783",
   "metadata": {},
   "outputs": [
    {
     "data": {
      "text/plain": [
       "time_pulled        0\n",
       "fullname         446\n",
       "titles             0\n",
       "times_created      0\n",
       "anchors          170\n",
       "subreddit          0\n",
       "dtype: int64"
      ]
     },
     "execution_count": 22,
     "metadata": {},
     "output_type": "execute_result"
    }
   ],
   "source": [
    "# Checking if any null values to handle\n",
    "# Some early posts names were not gathered\n",
    "# Some didnt have anchors as the pull reached the bottom of the page\n",
    "merged_pulls.isnull().sum()"
   ]
  },
  {
   "cell_type": "code",
   "execution_count": 23,
   "id": "ff459738-5df6-409d-9392-4be3e7639ebd",
   "metadata": {},
   "outputs": [],
   "source": [
    "merged_pulls.to_csv('./merged_pulls.csv', index=False)"
   ]
  },
  {
   "cell_type": "markdown",
   "id": "cae4b058-d9d5-456f-9205-59cc2897b2ab",
   "metadata": {},
   "source": [
    "# Merged Data Scrapes\n",
    "___\n",
    "\n",
    "The data has been merged together.  The data is 2440 posts and 6 features.  The data is really just one feature waiting to be processed, the post titles.  This data was selected as it feels like it carries significant words that are particular to each class.  The number of posts should be sufficient to produce a decent model.\n",
    "___"
   ]
  },
  {
   "cell_type": "code",
   "execution_count": null,
   "id": "279d7aee-6cdd-4c44-a6b7-3d4a204b26b5",
   "metadata": {},
   "outputs": [],
   "source": []
  }
 ],
 "metadata": {
  "kernelspec": {
   "display_name": "Python 3 (ipykernel)",
   "language": "python",
   "name": "python3"
  },
  "language_info": {
   "codemirror_mode": {
    "name": "ipython",
    "version": 3
   },
   "file_extension": ".py",
   "mimetype": "text/x-python",
   "name": "python",
   "nbconvert_exporter": "python",
   "pygments_lexer": "ipython3",
   "version": "3.12.4"
  }
 },
 "nbformat": 4,
 "nbformat_minor": 5
}
